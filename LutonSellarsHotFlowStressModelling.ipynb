{
 "cells": [
  {
   "cell_type": "markdown",
   "id": "0",
   "metadata": {},
   "source": [
    "# Predict hot flow stress curves qualitively by using Avrami recrystallisation model"
   ]
  },
  {
   "cell_type": "markdown",
   "id": "1",
   "metadata": {},
   "source": [
    "by Max Weiner (max.weiner@imf.tu-freiberg.de), based on Luton and Sellars https://doi.org/10.1016/0001-6160(69)90049-2"
   ]
  },
  {
   "cell_type": "code",
   "execution_count": null,
   "id": "2",
   "metadata": {},
   "outputs": [],
   "source": [
    "from scipy import linalg\n",
    "import numpy as np\n",
    "import pandas as pd\n",
    "import plotly.express as px"
   ]
  },
  {
   "cell_type": "markdown",
   "id": "3",
   "metadata": {},
   "source": [
    "## Determining Avrami Parameters from Experimental Data"
   ]
  },
  {
   "cell_type": "markdown",
   "id": "4",
   "metadata": {},
   "source": [
    "The simplest Avrami-type approach for modeling recrystallisation behavior and other similar processes is given below."
   ]
  },
  {
   "cell_type": "markdown",
   "id": "5",
   "metadata": {},
   "source": [
    "$X(t) = 1 - \\exp(-kt^n)$"
   ]
  },
  {
   "cell_type": "markdown",
   "id": "6",
   "metadata": {},
   "source": [
    "$X(t)$ is the recrystallized portion of volume, $t$ is the time and $k$ and $n$ are material as well as environment conditions dependent parameters (temperature, deformation, deformation spead, ...)."
   ]
  },
  {
   "cell_type": "markdown",
   "id": "7",
   "metadata": {},
   "source": [
    "$k$ and $n$ have to be determined from experimental data for specific conditions. Here some sample data should be used for illustrating the general approach.\n",
    "Since the Avrami-equation is asymptotic to 0 and 1, as start and end of recrystallisation commonly 0.01 and 0.99 is chosen."
   ]
  },
  {
   "cell_type": "markdown",
   "id": "8",
   "metadata": {},
   "source": [
    "To determine the parameters the Avrami equation is logarithmized twice."
   ]
  },
  {
   "cell_type": "markdown",
   "id": "9",
   "metadata": {},
   "source": [
    "$\\log k + n \\log t = \\log\\log\\left(\\frac{1}{1-X}\\right) $"
   ]
  },
  {
   "cell_type": "markdown",
   "id": "10",
   "metadata": {},
   "source": [
    "So the following linear equation system can be build."
   ]
  },
  {
   "cell_type": "markdown",
   "id": "11",
   "metadata": {},
   "source": [
    "$\\begin{bmatrix}1 & \\log t_0 \\\\ 1 & \\log t_1 \\end{bmatrix} \\begin{pmatrix}\\log k\\\\n\\end{pmatrix} = \\begin{pmatrix}\\log\\log\\left(\\frac{1}{1-X_0}\\right)\\\\\\log\\log\\left(\\frac{1}{1-X_1}\\right)\\end{pmatrix}$"
   ]
  },
  {
   "cell_type": "markdown",
   "id": "12",
   "metadata": {},
   "source": [
    "Now a linear regression can be done for $n$ and $\\log k$."
   ]
  },
  {
   "cell_type": "markdown",
   "id": "13",
   "metadata": {},
   "source": [
    "For sample purpose, it is assumed, that the recrystallisation starts at $t_0=1\\,\\mathrm{s}$ and finishes at $t_1=15\\,\\mathrm{s}$."
   ]
  },
  {
   "cell_type": "markdown",
   "id": "14",
   "metadata": {},
   "source": [
    "The system is build and solved with the `scipy`-package."
   ]
  },
  {
   "cell_type": "code",
   "execution_count": null,
   "id": "15",
   "metadata": {},
   "outputs": [],
   "source": [
    "data_t = np.array([1, 15])\n",
    "data_X = np.array([0.01, 0.99])"
   ]
  },
  {
   "cell_type": "code",
   "execution_count": null,
   "id": "16",
   "metadata": {},
   "outputs": [],
   "source": [
    "right_side = np.log(np.log(1 / (1 - data_X)))\n",
    "print(right_side)"
   ]
  },
  {
   "cell_type": "code",
   "execution_count": null,
   "id": "17",
   "metadata": {},
   "outputs": [],
   "source": [
    "matrix = np.array([[1, np.log(data_t[0])], [1, np.log(data_t[1])]])\n",
    "print(matrix)"
   ]
  },
  {
   "cell_type": "code",
   "execution_count": null,
   "id": "18",
   "metadata": {},
   "outputs": [],
   "source": [
    "solution = linalg.solve(matrix, right_side)\n",
    "print(solution)"
   ]
  },
  {
   "cell_type": "markdown",
   "id": "19",
   "metadata": {},
   "source": [
    "So the searched parameters are:"
   ]
  },
  {
   "cell_type": "code",
   "execution_count": null,
   "id": "20",
   "metadata": {},
   "outputs": [],
   "source": [
    "print(\"k =\", np.exp(solution[0]), \"\\nn =\", solution[1])"
   ]
  },
  {
   "cell_type": "markdown",
   "id": "21",
   "metadata": {},
   "source": [
    "## Predicting the Flow Stress Curve Qualitatively"
   ]
  },
  {
   "cell_type": "markdown",
   "id": "22",
   "metadata": {},
   "source": [
    "According to Luton and Sellars (link see above) the hot flow stress curves can be calculated at least qualitively with recrystallisation approach of Avrami."
   ]
  },
  {
   "cell_type": "markdown",
   "id": "23",
   "metadata": {},
   "source": [
    "However, a base flow stress curve of the material without recrystallistaion behaviour is needed. Here a simple Ludvig-approach should be used:"
   ]
  },
  {
   "cell_type": "code",
   "execution_count": null,
   "id": "24",
   "metadata": {},
   "outputs": [],
   "source": [
    "ludvig_k0 = 100  # base flow stress\n",
    "ludvig_n = 0.2  # exponent\n",
    "\n",
    "\n",
    "def ludwik(strain):\n",
    "    return ludvig_k0 * (strain + 0.01) ** ludvig_n"
   ]
  },
  {
   "cell_type": "code",
   "execution_count": null,
   "id": "25",
   "metadata": {},
   "outputs": [],
   "source": [
    "work_hardening = pd.DataFrame({\"strain\": np.linspace(0, 2, 100)})\n",
    "work_hardening[\"ludwik\"] = ludwik(work_hardening[\"strain\"])\n",
    "px.line(work_hardening, x=\"strain\", y=\"ludwik\")  # sample plot"
   ]
  },
  {
   "cell_type": "markdown",
   "id": "26",
   "metadata": {},
   "source": [
    "The Avrami approach is here defined with constant parameters."
   ]
  },
  {
   "cell_type": "code",
   "execution_count": null,
   "id": "27",
   "metadata": {},
   "outputs": [],
   "source": [
    "avrami_k = 0.2  # time constant\n",
    "avrami_n = 2  # exponent\n",
    "\n",
    "\n",
    "def avrami(time):\n",
    "    return 1 - np.exp(-avrami_k * time**avrami_n)"
   ]
  },
  {
   "cell_type": "code",
   "execution_count": null,
   "id": "28",
   "metadata": {},
   "outputs": [],
   "source": [
    "softening = pd.DataFrame({\"time\": np.linspace(0, 5, 100)})\n",
    "softening[\"avrami\"] = avrami(softening[\"time\"])\n",
    "px.line(softening, x=\"time\", y=\"avrami\")  # sample plot"
   ]
  },
  {
   "cell_type": "markdown",
   "id": "29",
   "metadata": {},
   "source": [
    "This function calculates the difference in the Avrami-function in a time step `t_increment` going from time `t`.\n",
    "`t=0` is defined at the start of recrystallization."
   ]
  },
  {
   "cell_type": "code",
   "execution_count": null,
   "id": "30",
   "metadata": {},
   "outputs": [],
   "source": [
    "def avrami_increment(time, increment):\n",
    "    return avrami(time + increment) - avrami(time)"
   ]
  },
  {
   "cell_type": "markdown",
   "id": "31",
   "metadata": {},
   "source": [
    "This class is simply needed as data container for the following calculations. It represents a portion of material with defined equivalent deformation."
   ]
  },
  {
   "cell_type": "code",
   "execution_count": null,
   "id": "32",
   "metadata": {},
   "outputs": [],
   "source": [
    "class Portion:\n",
    "    \"\"\"Class that represents a portion of material, that has experienced an equal deformation\"\"\"\n",
    "\n",
    "    def __init__(self, portion: float):\n",
    "        self.start_time = -1\n",
    "        self.portion = portion\n",
    "        self.start_portion = portion\n",
    "        self.strain = 0\n",
    "\n",
    "    def flow_stress(self):\n",
    "        \"\"\"returns flow stress of this portion\"\"\"\n",
    "        return ludwik(self.strain)\n",
    "\n",
    "    def __repr__(self):\n",
    "        \"\"\"string representation\"\"\"\n",
    "        return (\n",
    "            f\"({self.start_time}, {self.portion}, {self.strain}, {self.flow_stress()})\"\n",
    "        )"
   ]
  },
  {
   "cell_type": "markdown",
   "id": "33",
   "metadata": {},
   "source": [
    "The following function contains the actual algorithm of recrystallisation calculation.\n",
    "In every time step the recrystallized amount is calculated with Avrami and defined as new material portion.\n",
    "Each portion has its own state in equivalent strain. \n",
    "Only portions with $\\varphi > \\varphi_c$ are recrystallizing.\n",
    "The overall flow stress $k_f$ is calculated by arithmetic mean of the flow stresses of all portions."
   ]
  },
  {
   "cell_type": "markdown",
   "id": "34",
   "metadata": {},
   "source": [
    "$k_f = \\sum_i k_{fi} x_i$"
   ]
  },
  {
   "cell_type": "markdown",
   "id": "35",
   "metadata": {},
   "source": [
    "were $x_i$ is the volume share of this portion (the property `Portion.portion` in code)."
   ]
  },
  {
   "cell_type": "code",
   "execution_count": null,
   "id": "36",
   "metadata": {},
   "outputs": [],
   "source": [
    "strain_critical = 0.5  # critical strain of recrystallisation\n",
    "strain_step = 0.02  # numerical step width of deformation\n",
    "strain_max = 4  # maximum deformation (end of calculation)\n",
    "\n",
    "\n",
    "def luton_sellars_solve(rate: float):\n",
    "    \"\"\"function that predicts the flow stress curve at a given deformation speed\"\"\"\n",
    "    strain = 0\n",
    "    t = 0\n",
    "    time_step = strain_step / rate\n",
    "    portions = [Portion(1)]  # initial portion: whole material, no strain\n",
    "    results = []\n",
    "\n",
    "    while strain < strain_max:\n",
    "        new_portion = 0.0\n",
    "        for p in portions:\n",
    "            if p.strain >= strain_critical:\n",
    "                if p.start_time < 0:\n",
    "                    # set start_time if this portion recrystallizes first\n",
    "                    p.start_time = t\n",
    "                recrystallized_amount = (\n",
    "                    avrami_increment(t - p.start_time, time_step) * p.start_portion\n",
    "                )\n",
    "                p.portion -= recrystallized_amount\n",
    "                new_portion += recrystallized_amount\n",
    "            p.strain += strain_step\n",
    "        if new_portion > 0:\n",
    "            portions.append(Portion(new_portion))\n",
    "        strain += strain_step\n",
    "        t += time_step\n",
    "        results.append(\n",
    "            (t, strain, sum((p.portion * p.flow_stress() for p in portions)))\n",
    "        )\n",
    "    return pd.DataFrame(results, columns=[\"t\", \"strain\", \"flow_stress\"])"
   ]
  },
  {
   "cell_type": "markdown",
   "id": "37",
   "metadata": {},
   "source": [
    "Last, this model is calculated for different $\\dot{\\varphi}$."
   ]
  },
  {
   "cell_type": "code",
   "execution_count": null,
   "id": "38",
   "metadata": {},
   "outputs": [],
   "source": [
    "rates = [0.1, 0.2, 0.5, 1.0]\n",
    "\n",
    "results = pd.concat(\n",
    "    [luton_sellars_solve(rate) for rate in rates],\n",
    "    keys=rates,\n",
    ").reset_index(level=0, names=\"rate\")\n",
    "results"
   ]
  },
  {
   "cell_type": "code",
   "execution_count": null,
   "id": "39",
   "metadata": {},
   "outputs": [],
   "source": [
    "px.line(results, x=\"strain\", y=\"flow_stress\", color=\"rate\")"
   ]
  },
  {
   "cell_type": "code",
   "execution_count": null,
   "id": "40",
   "metadata": {},
   "outputs": [],
   "source": []
  }
 ],
 "metadata": {
  "kernelspec": {
   "display_name": "Python 3 (ipykernel)",
   "language": "python",
   "name": "python3"
  },
  "language_info": {
   "codemirror_mode": {
    "name": "ipython",
    "version": 3
   },
   "file_extension": ".py",
   "mimetype": "text/x-python",
   "name": "python",
   "nbconvert_exporter": "python",
   "pygments_lexer": "ipython3",
   "version": "3.12.7"
  }
 },
 "nbformat": 4,
 "nbformat_minor": 5
}
