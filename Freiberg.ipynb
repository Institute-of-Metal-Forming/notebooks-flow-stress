{
 "cells": [
  {
   "cell_type": "markdown",
   "id": "0",
   "metadata": {},
   "source": [
    "# Parameter Fitting for Empirical Flow Stress Models\n",
    "\n",
    "Import of required packages."
   ]
  },
  {
   "cell_type": "code",
   "execution_count": null,
   "id": "1",
   "metadata": {},
   "outputs": [],
   "source": [
    "import pandas as pd  # for data loading\n",
    "import numpy as np  # for vectorized computations\n",
    "import scipy.optimize as opt  # for least squares fitting\n",
    "import plotly.express as px  # for plotting"
   ]
  },
  {
   "cell_type": "markdown",
   "id": "2",
   "metadata": {},
   "source": [
    "## Loading the Experimental Data\n",
    "\n",
    "We have the flow stress data in a long format CSV file and load it via `pandas` into a data frame."
   ]
  },
  {
   "cell_type": "code",
   "execution_count": null,
   "id": "3",
   "metadata": {},
   "outputs": [],
   "source": [
    "data = pd.read_csv(\n",
    "    \"bst.csv\",  # file name\n",
    "    encoding=\"utf8\",  # use unicode to be safe on Windows systems (default on UNIX)\n",
    "    sep=\",\",  # columns separated by comma\n",
    ")\n",
    "data"
   ]
  },
  {
   "cell_type": "markdown",
   "id": "4",
   "metadata": {},
   "source": [
    "As the data is in long format (columns for temperature, strain and strain rate; rows for every data point), it is very comfortable to plot it with `plotly`.\n",
    "But first we sort by temperature, then by strain rate and last by strain."
   ]
  },
  {
   "cell_type": "code",
   "execution_count": null,
   "id": "5",
   "metadata": {},
   "outputs": [],
   "source": [
    "data.sort_values(\n",
    "    by=[\"temp\", \"rate\", \"strain\"],  # multi-level sorting columns\n",
    "    ascending=True,  # order from small to large\n",
    "    inplace=True,  # use the existing data frame, do not copy the data\n",
    ")\n",
    "data"
   ]
  },
  {
   "cell_type": "markdown",
   "id": "6",
   "metadata": {},
   "source": [
    "Now we can plot the data in dependence of the test conditions."
   ]
  },
  {
   "cell_type": "code",
   "execution_count": null,
   "id": "7",
   "metadata": {},
   "outputs": [],
   "source": [
    "px.line(\n",
    "    data,\n",
    "    \"strain\",  # strain on the x-axis\n",
    "    \"stress\",  # stress on the y-axis\n",
    "    color=\"temp\",  # distinguish temperatures by colors\n",
    "    facet_col=\"rate\",  # draw multiple plots for distinct strain rates\n",
    "    line_group=\"file\",  # distinguish lines by file name, avoid zick-zack curves\n",
    ")"
   ]
  },
  {
   "cell_type": "markdown",
   "id": "8",
   "metadata": {},
   "source": [
    "## Defining the Model\n",
    "\n",
    "We use the Freiberg flow stress model to fit on the data as given below.\n",
    "We define a python function that computes this equation using `numpy` (shorthand `np`) to be able to efficiently iterate over all data points.\n",
    "The free parameters for fitting are stored in the vector `params` (`params[i]`=$m_i$, `params[0]`=$A$).\n",
    "\n",
    "$$ k_\\mathrm{f} \\left( \\varphi, \\dot{\\varphi}, \\vartheta \\right) = A \\cdot \\exp\\left(m_1 \\vartheta\\right)\\cdot \\vartheta^{m_9}\n",
    "\\cdot \\varphi^{m_2} \\cdot \\exp\\left( \\frac{m_4}{\\varphi} \\right)\n",
    "\\cdot \\left(1 + \\varphi \\right)^{m_5\\vartheta+m_6} \\cdot \\exp\\left(m_7 \\varphi\\right)\n",
    "\\cdot \\dot{\\varphi}^{m_3 + m_8 \\vartheta} $$"
   ]
  },
  {
   "cell_type": "code",
   "execution_count": null,
   "id": "9",
   "metadata": {},
   "outputs": [],
   "source": [
    "def freiberg_model(strain, rate, temp, params):\n",
    "    strain = (\n",
    "        strain + 0.01\n",
    "    )  # some small strain value to avoid singularities near strain=0\n",
    "    rate = rate + 0.01  # respectively\n",
    "    return (\n",
    "        params[0]\n",
    "        * np.exp(params[1] * temp)\n",
    "        * temp ** params[9]\n",
    "        * strain ** params[2]\n",
    "        * np.exp(params[4] / strain)\n",
    "        * (1 + strain) ** (params[5] * temp + params[6])\n",
    "        * np.exp(params[7] * strain)\n",
    "        * rate ** (params[3] + params[8] * temp)\n",
    "    )"
   ]
  },
  {
   "cell_type": "markdown",
   "id": "10",
   "metadata": {},
   "source": [
    "## Fit the Model to the Data\n",
    "\n",
    "Now we use the leat squares method to find an optimal fit of the model to the data (implemented in `scipy.optimize.least_squares`).\n",
    "We define a function that computes the absolute error between the data and the model at every data point for a given set of model parameters (`params`).\n",
    "Then, we pass it to the optimization routine which returns the optimal fit to us."
   ]
  },
  {
   "cell_type": "code",
   "execution_count": null,
   "id": "11",
   "metadata": {},
   "outputs": [],
   "source": [
    "def model_data_error(params):\n",
    "    return freiberg_model(data.strain, data.rate, data.temp, params) - data.stress\n",
    "\n",
    "\n",
    "fit = opt.least_squares(\n",
    "    model_data_error,\n",
    "    x0=[\n",
    "        1e3,\n",
    "        -1e-2,\n",
    "        1e-1,\n",
    "        1e-1,\n",
    "        -1e-1,\n",
    "        1e-4,\n",
    "        1e-1,\n",
    "        1e-1,\n",
    "        1e-4,\n",
    "        0.1,\n",
    "    ],  # initial guess of the params vector\n",
    ")\n",
    "fit"
   ]
  },
  {
   "cell_type": "markdown",
   "id": "12",
   "metadata": {},
   "source": [
    "## Plot the Model Predictions Counter the Data\n",
    "\n",
    "First we create a fine cartesian raster to evaluate the model on, so we get smooth curves of the model prediction."
   ]
  },
  {
   "cell_type": "code",
   "execution_count": null,
   "id": "13",
   "metadata": {},
   "outputs": [],
   "source": [
    "strains = np.linspace(0, 1.5, 50)  # strain with 50 points between 0 and 1.2\n",
    "temps = (\n",
    "    data.temp.unique()\n",
    ")  # take only the distinct temperatures that are present in the data\n",
    "rates = data.rate.unique()  # respectively\n",
    "\n",
    "grid = pd.MultiIndex.from_product(\n",
    "    [temps, rates, strains], names=[\"temp\", \"rate\", \"strain\"]\n",
    ")\n",
    "grid"
   ]
  },
  {
   "cell_type": "markdown",
   "id": "14",
   "metadata": {},
   "source": [
    "The raster is an index for a data frame, but we want it as an actual dataframe for easier computation."
   ]
  },
  {
   "cell_type": "code",
   "execution_count": null,
   "id": "15",
   "metadata": {},
   "outputs": [],
   "source": [
    "model_data = pd.DataFrame(index=grid).reset_index()\n",
    "model_data"
   ]
  },
  {
   "cell_type": "markdown",
   "id": "16",
   "metadata": {},
   "source": [
    "Then we apply the model function with our determined best parameters and save the results in an additonal column in the data frame."
   ]
  },
  {
   "cell_type": "code",
   "execution_count": null,
   "id": "17",
   "metadata": {},
   "outputs": [],
   "source": [
    "model_data[\"stress\"] = freiberg_model(\n",
    "    model_data.strain, model_data.rate, model_data.temp, fit.x\n",
    ")\n",
    "model_data"
   ]
  },
  {
   "cell_type": "markdown",
   "id": "18",
   "metadata": {},
   "source": [
    "We can plot the results as before with the data."
   ]
  },
  {
   "cell_type": "code",
   "execution_count": null,
   "id": "19",
   "metadata": {},
   "outputs": [],
   "source": [
    "px.line(model_data, \"strain\", \"stress\", color=\"temp\", facet_col=\"rate\")"
   ]
  },
  {
   "cell_type": "markdown",
   "id": "20",
   "metadata": {},
   "source": [
    "To plot both in comparison, we first have to merge the data frames. We distinguish model predictions and experimental data by an additonal column containg a marker label."
   ]
  },
  {
   "cell_type": "code",
   "execution_count": null,
   "id": "21",
   "metadata": {},
   "outputs": [],
   "source": [
    "combined_data = pd.concat(\n",
    "    [model_data, data],  # list of the frames to combine\n",
    "    keys=[\"model\", \"exp\"],  # list of marker labels in same order as above\n",
    "    names=[\"type\", \"index\"],  # names of the marker column and the index column\n",
    ")\n",
    "combined_data.reset_index(\n",
    "    level=0, inplace=True\n",
    ")  # make the type column a normal column (was an index column)\n",
    "combined_data.fillna(\n",
    "    value={\"file\": \"\"}, inplace=True\n",
    ")  # fill missing file in model results\n",
    "combined_data"
   ]
  },
  {
   "cell_type": "markdown",
   "id": "22",
   "metadata": {},
   "source": [
    "Now we plot the data as before, but distinguish the origin by lime style (solid and dashed)."
   ]
  },
  {
   "cell_type": "code",
   "execution_count": null,
   "id": "23",
   "metadata": {},
   "outputs": [],
   "source": [
    "px.line(\n",
    "    combined_data,\n",
    "    \"strain\",\n",
    "    \"stress\",\n",
    "    color=\"temp\",\n",
    "    facet_col=\"rate\",\n",
    "    line_dash=\"type\",\n",
    "    line_group=\"file\",\n",
    ")"
   ]
  },
  {
   "cell_type": "code",
   "execution_count": null,
   "id": "24",
   "metadata": {},
   "outputs": [],
   "source": []
  }
 ],
 "metadata": {
  "jupytext": {
   "main_language": "python"
  },
  "kernelspec": {
   "display_name": "Python 3 (ipykernel)",
   "language": "python",
   "name": "python3"
  },
  "language_info": {
   "codemirror_mode": {
    "name": "ipython",
    "version": 3
   },
   "file_extension": ".py",
   "mimetype": "text/x-python",
   "name": "python",
   "nbconvert_exporter": "python",
   "pygments_lexer": "ipython3",
   "version": "3.12.7"
  }
 },
 "nbformat": 4,
 "nbformat_minor": 5
}
