{
 "cells": [
  {
   "cell_type": "markdown",
   "id": "0",
   "metadata": {},
   "source": [
    "# Parameter Fitting for Empirical Flow Stress Models — Sellars-Tegart Model"
   ]
  },
  {
   "cell_type": "markdown",
   "id": "1",
   "metadata": {},
   "source": [
    "The theory behind is here discussed only very briefly, see Solhjoo2022 <https://doi.org/10.3390/modelling3030023> for detailed information."
   ]
  },
  {
   "cell_type": "markdown",
   "id": "2",
   "metadata": {},
   "source": [
    "Import of required packages."
   ]
  },
  {
   "cell_type": "code",
   "execution_count": null,
   "id": "3",
   "metadata": {},
   "outputs": [],
   "source": [
    "import pandas as pd  # for data loading\n",
    "import numpy as np  # for vectorized computations\n",
    "from numpy.polynomial import Polynomial\n",
    "import scipy.optimize as opt  # for least squares fitting\n",
    "import scipy.interpolate as interp\n",
    "import plotly.express as px  # for plotting"
   ]
  },
  {
   "cell_type": "markdown",
   "id": "4",
   "metadata": {},
   "source": [
    "## Loading the Experimental Data\n",
    "\n",
    "We have the flow stress data in a long format CSV file and load it via `pandas` into a data frame."
   ]
  },
  {
   "cell_type": "code",
   "execution_count": null,
   "id": "5",
   "metadata": {},
   "outputs": [],
   "source": [
    "data = pd.read_csv(\n",
    "    \"bst.csv\",  # file name\n",
    "    encoding=\"utf8\",  # use unicode to be safe on Windows systems (default on UNIX)\n",
    "    sep=\",\",  # columns separated by comma\n",
    ")\n",
    "data"
   ]
  },
  {
   "cell_type": "markdown",
   "id": "6",
   "metadata": {},
   "source": [
    "As the data is in long format (columns for temperature, strain and strain rate; rows for every data point), it is very comfortable to plot it with `plotly`.\n",
    "But first we sort by temperature, then by strain rate and last by strain."
   ]
  },
  {
   "cell_type": "code",
   "execution_count": null,
   "id": "7",
   "metadata": {},
   "outputs": [],
   "source": [
    "data.sort_values(\n",
    "    by=[\"temp\", \"rate\", \"strain\"],  # multi-level sorting columns\n",
    "    ascending=True,  # order from small to large\n",
    "    inplace=True,  # use the existing data frame, do not copy the data\n",
    ")\n",
    "data"
   ]
  },
  {
   "cell_type": "markdown",
   "id": "8",
   "metadata": {},
   "source": [
    "Now we can plot the data in dependence of the test conditions."
   ]
  },
  {
   "cell_type": "code",
   "execution_count": null,
   "id": "9",
   "metadata": {},
   "outputs": [],
   "source": [
    "px.line(\n",
    "    data,\n",
    "    \"strain\",  # strain on the x-axis\n",
    "    \"stress\",  # stress on the y-axis\n",
    "    color=\"temp\",  # distinguish temperatures by colors\n",
    "    facet_col=\"rate\",  # draw multiple plots for distinct strain rates\n",
    "    line_group=\"file\",  # distinguish lines by file name, avoid zick-zack curves\n",
    ")"
   ]
  },
  {
   "cell_type": "code",
   "execution_count": null,
   "id": "10",
   "metadata": {},
   "outputs": [],
   "source": [
    "data.groupby([\"\"])"
   ]
  },
  {
   "cell_type": "markdown",
   "id": "11",
   "metadata": {},
   "source": [
    "## The Sellars-Tegart Flow Stress Model"
   ]
  },
  {
   "cell_type": "markdown",
   "id": "12",
   "metadata": {},
   "source": [
    "For low stresses, the model is given as below, with $A'$ and $n'$ as parameters."
   ]
  },
  {
   "cell_type": "markdown",
   "id": "13",
   "metadata": {},
   "source": [
    "$$ Z = A' \\sigma^{n'} $$"
   ]
  },
  {
   "cell_type": "markdown",
   "id": "14",
   "metadata": {},
   "source": [
    "For high stresses, the model is given as below, with $A''$ and $\\beta$ as parameters."
   ]
  },
  {
   "cell_type": "markdown",
   "id": "15",
   "metadata": {},
   "source": [
    "$$ Z = A'' \\exp(\\beta\\sigma) $$"
   ]
  },
  {
   "cell_type": "markdown",
   "id": "16",
   "metadata": {},
   "source": [
    "A merged approach is given as below, with $A$, $\\alpha$ and $n$ as parameters."
   ]
  },
  {
   "cell_type": "markdown",
   "id": "17",
   "metadata": {},
   "source": [
    "$$ Z = A [ \\sinh ( \\alpha\\sigma )]^n $$"
   ]
  },
  {
   "cell_type": "markdown",
   "id": "18",
   "metadata": {},
   "source": [
    "The Zener-Holomon parameter occuring in all approaches is defined as below, with an activation energy $Q$."
   ]
  },
  {
   "cell_type": "markdown",
   "id": "19",
   "metadata": {},
   "source": [
    "$$ Z = \\dot{\\varphi} \\exp \\left( \\frac{Q}{RT} \\right)$$"
   ]
  },
  {
   "cell_type": "markdown",
   "id": "20",
   "metadata": {},
   "source": [
    "## Classic 6-Step Determination of Parameters"
   ]
  },
  {
   "cell_type": "markdown",
   "id": "21",
   "metadata": {},
   "source": [
    "### Interpolation of Flow Stress Data"
   ]
  },
  {
   "cell_type": "markdown",
   "id": "22",
   "metadata": {},
   "source": [
    "The following procedures need data at defined strains, so we first interpolate the given data."
   ]
  },
  {
   "cell_type": "code",
   "execution_count": null,
   "id": "23",
   "metadata": {},
   "outputs": [],
   "source": [
    "interpolations = data.groupby([\"temp\", \"rate\", \"file\"]).apply(\n",
    "    lambda d: interp.make_interp_spline(\n",
    "        d[\"strain\"],\n",
    "        d[\"stress\"],\n",
    "        k=1,\n",
    "    ),\n",
    "    include_groups=False,\n",
    ")"
   ]
  },
  {
   "cell_type": "markdown",
   "id": "24",
   "metadata": {},
   "source": [
    "Then, we evaluate the interpolations at defined points."
   ]
  },
  {
   "cell_type": "code",
   "execution_count": null,
   "id": "25",
   "metadata": {},
   "outputs": [],
   "source": [
    "strains = np.linspace(0.1, 1.2, 100)"
   ]
  },
  {
   "cell_type": "code",
   "execution_count": null,
   "id": "26",
   "metadata": {},
   "outputs": [],
   "source": [
    "interpolated_data = (\n",
    "    interpolations.apply(lambda ip: pd.Series(ip(strains), index=strains))\n",
    "    .reset_index()\n",
    "    .melt(id_vars=[\"temp\", \"rate\", \"file\"], var_name=\"strain\", value_name=\"stress\")\n",
    ")\n",
    "interpolated_data"
   ]
  },
  {
   "cell_type": "markdown",
   "id": "27",
   "metadata": {},
   "source": [
    "The plots should resemble the previous ones (good if solid and dashed lines are hardly distinguishable)."
   ]
  },
  {
   "cell_type": "code",
   "execution_count": null,
   "id": "28",
   "metadata": {},
   "outputs": [],
   "source": [
    "px.line(\n",
    "    pd.concat(\n",
    "        [data, interpolated_data],\n",
    "        keys=[\"orig\", \"interp\"],\n",
    "        names=[\"source\", \"index\"],\n",
    "    ).reset_index(level=0),\n",
    "    \"strain\",  # strain on the x-axis\n",
    "    \"stress\",  # stress on the y-axis\n",
    "    color=\"temp\",  # distinguish temperatures by colors\n",
    "    facet_col=\"rate\",  # draw multiple plots for distinct strain rates\n",
    "    line_dash=\"source\",\n",
    "    line_group=\"file\",\n",
    ")"
   ]
  },
  {
   "cell_type": "markdown",
   "id": "29",
   "metadata": {},
   "source": [
    "### Calculation of $n'$"
   ]
  },
  {
   "cell_type": "markdown",
   "id": "30",
   "metadata": {},
   "source": [
    "$n'$ is obtained from the slope of $\\ln(\\dot\\varphi)$ over $\\ln(\\sigma)$ for each strain and temperature. Usually, the mean value of all temperatures is taken."
   ]
  },
  {
   "cell_type": "code",
   "execution_count": null,
   "id": "31",
   "metadata": {},
   "outputs": [],
   "source": [
    "nprime = interpolated_data.groupby(\"strain\").apply(\n",
    "    lambda sg: sg.groupby(\"temp\").apply(\n",
    "        lambda tg: opt.least_squares(\n",
    "            lambda params: Polynomial(params)(np.log(tg[\"stress\"]))\n",
    "            - np.log(tg[\"rate\"]),\n",
    "            x0=[0, 1],\n",
    "        ).x[1],\n",
    "        include_groups=False,\n",
    "    ),\n",
    "    include_groups=False,\n",
    ")\n",
    "nprime[\"mean\"] = nprime.agg(\"mean\", axis=1)\n",
    "nprime"
   ]
  },
  {
   "cell_type": "markdown",
   "id": "32",
   "metadata": {},
   "source": [
    "Plot the values of $n'$ in dependence on strain and temperature."
   ]
  },
  {
   "cell_type": "code",
   "execution_count": null,
   "id": "33",
   "metadata": {},
   "outputs": [],
   "source": [
    "px.line(nprime, labels=dict(value=\"n'\"))"
   ]
  },
  {
   "cell_type": "markdown",
   "id": "34",
   "metadata": {},
   "source": [
    "### Calculation of $\\beta$"
   ]
  },
  {
   "cell_type": "markdown",
   "id": "35",
   "metadata": {},
   "source": [
    "$\\beta$ is obtained from the slope of $\\ln(\\dot\\varphi)$ over $\\sigma$ for each strain and temperature. Usually, the mean value of all temperatures is taken."
   ]
  },
  {
   "cell_type": "code",
   "execution_count": null,
   "id": "36",
   "metadata": {},
   "outputs": [],
   "source": [
    "beta = interpolated_data.groupby(\"strain\").apply(\n",
    "    lambda sg: sg.groupby(\"temp\").apply(\n",
    "        lambda tg: opt.least_squares(\n",
    "            lambda params: Polynomial(params)(tg[\"stress\"]) - np.log(tg[\"rate\"]),\n",
    "            x0=[0, 1],\n",
    "        ).x[1],\n",
    "        include_groups=False,\n",
    "    ),\n",
    "    include_groups=False,\n",
    ")\n",
    "beta[\"mean\"] = beta.agg(\"mean\", axis=1)\n",
    "beta"
   ]
  },
  {
   "cell_type": "markdown",
   "id": "37",
   "metadata": {},
   "source": [
    "Plot the values of $\\beta$ in dependence on strain and temperature."
   ]
  },
  {
   "cell_type": "code",
   "execution_count": null,
   "id": "38",
   "metadata": {},
   "outputs": [],
   "source": [
    "px.line(beta, labels=dict(value=\"beta\"))"
   ]
  },
  {
   "cell_type": "markdown",
   "id": "39",
   "metadata": {},
   "source": [
    "### Calculation of $\\alpha$"
   ]
  },
  {
   "cell_type": "markdown",
   "id": "40",
   "metadata": {},
   "source": [
    "$\\alpha$ is obtained by dividing $\\beta$ and $n'$. Usually, the mean value of all temperatures is taken."
   ]
  },
  {
   "cell_type": "code",
   "execution_count": null,
   "id": "41",
   "metadata": {},
   "outputs": [],
   "source": [
    "alpha = beta / nprime\n",
    "alpha"
   ]
  },
  {
   "cell_type": "markdown",
   "id": "42",
   "metadata": {},
   "source": [
    "Plot the values of $\\alpha$ in dependence on strain."
   ]
  },
  {
   "cell_type": "code",
   "execution_count": null,
   "id": "43",
   "metadata": {},
   "outputs": [],
   "source": [
    "px.line(alpha, labels=dict(value=\"alpha\"))"
   ]
  },
  {
   "cell_type": "markdown",
   "id": "44",
   "metadata": {},
   "source": [
    "The overall mean of $\\alpha$ is used as a constant parameter."
   ]
  },
  {
   "cell_type": "code",
   "execution_count": null,
   "id": "45",
   "metadata": {},
   "outputs": [],
   "source": [
    "alpha_mean = np.mean(alpha[\"mean\"])\n",
    "alpha_mean"
   ]
  },
  {
   "cell_type": "markdown",
   "id": "46",
   "metadata": {},
   "source": [
    "### Calculation of $n$"
   ]
  },
  {
   "cell_type": "markdown",
   "id": "47",
   "metadata": {},
   "source": [
    "With the mean $\\alpha$ given, $N$ is obtained from the slope of $\\ln(\\dot\\varphi)$ over $\\ln(\\sinh(\\alpha\\sigma))$ for each strain and temperature. Usually, the mean value of all temperatures is taken."
   ]
  },
  {
   "cell_type": "code",
   "execution_count": null,
   "id": "48",
   "metadata": {},
   "outputs": [],
   "source": [
    "n = interpolated_data.groupby(\"strain\").apply(\n",
    "    lambda sg: sg.groupby(\"temp\").apply(\n",
    "        lambda tg: opt.least_squares(\n",
    "            lambda params: Polynomial(params)(\n",
    "                np.log(np.sinh(alpha_mean * tg[\"stress\"]))\n",
    "            )\n",
    "            - np.log(tg[\"rate\"]),\n",
    "            x0=[0, 1],\n",
    "        ).x[1],\n",
    "        include_groups=False,\n",
    "    ),\n",
    "    include_groups=False,\n",
    ")\n",
    "n[\"mean\"] = n.agg(\"mean\", axis=1)\n",
    "n"
   ]
  },
  {
   "cell_type": "markdown",
   "id": "49",
   "metadata": {},
   "source": [
    "Plot the values of $n'$ in dependence on strain and temperature."
   ]
  },
  {
   "cell_type": "code",
   "execution_count": null,
   "id": "50",
   "metadata": {},
   "outputs": [],
   "source": [
    "px.line(n, labels=dict(value=\"beta\"))"
   ]
  },
  {
   "cell_type": "markdown",
   "id": "51",
   "metadata": {},
   "source": [
    "The overall mean of $n$ is used as a constant parameter."
   ]
  },
  {
   "cell_type": "code",
   "execution_count": null,
   "id": "52",
   "metadata": {},
   "outputs": [],
   "source": [
    "n_mean = np.mean(n[\"mean\"])\n",
    "n_mean"
   ]
  },
  {
   "cell_type": "markdown",
   "id": "53",
   "metadata": {},
   "source": [
    "## Define the Model Functions"
   ]
  },
  {
   "cell_type": "markdown",
   "id": "54",
   "metadata": {},
   "source": [
    "The activation energy $Q$ is usually modelled as a polynomial in dependence on the strain (here of 9th order)."
   ]
  },
  {
   "cell_type": "code",
   "execution_count": null,
   "id": "55",
   "metadata": {},
   "outputs": [],
   "source": [
    "GAS_CONSTANT = 8.314"
   ]
  },
  {
   "cell_type": "code",
   "execution_count": null,
   "id": "56",
   "metadata": {},
   "outputs": [],
   "source": [
    "def activation_energy_poly(params):\n",
    "    return np.polynomial.Polynomial(params[0:10], symbol=\"φ\")"
   ]
  },
  {
   "cell_type": "markdown",
   "id": "57",
   "metadata": {},
   "source": [
    "Similarly the pre-factor $A$."
   ]
  },
  {
   "cell_type": "code",
   "execution_count": null,
   "id": "58",
   "metadata": {},
   "outputs": [],
   "source": [
    "def pre_factor_poly(params):\n",
    "    return np.polynomial.Polynomial(params[10:20], symbol=\"φ\")"
   ]
  },
  {
   "cell_type": "markdown",
   "id": "59",
   "metadata": {},
   "source": [
    "We have two possibilities to fit the model. We can use the parameters $\\alpha$ and $n$ as determined above (6-step method) or we can leave them free and fit them alongside using least squares (full method)."
   ]
  },
  {
   "cell_type": "markdown",
   "id": "60",
   "metadata": {},
   "source": [
    "In the 6-step case we have only the free parameters of the two polynomials (20 in total) collected in the `params` array."
   ]
  },
  {
   "cell_type": "code",
   "execution_count": null,
   "id": "61",
   "metadata": {},
   "outputs": [],
   "source": [
    "def sellars_tegart_model_6step(strain, rate, temp, params):\n",
    "    zener = rate * np.exp(\n",
    "        activation_energy_poly(params)(strain) / (GAS_CONSTANT * temp)\n",
    "    )\n",
    "    return (\n",
    "        1\n",
    "        / alpha_mean\n",
    "        * np.sinh(zener / pre_factor_poly(params)(strain)) ** (1 / n_mean)\n",
    "    )"
   ]
  },
  {
   "cell_type": "markdown",
   "id": "62",
   "metadata": {},
   "source": [
    "In the full case we have two more parameters (22 in total) collected in the `params` array."
   ]
  },
  {
   "cell_type": "code",
   "execution_count": null,
   "id": "63",
   "metadata": {},
   "outputs": [],
   "source": [
    "def sellars_tegart_model_full(strain, rate, temp, params):\n",
    "    zener = rate * np.exp(\n",
    "        activation_energy_poly(params)(strain) / (GAS_CONSTANT * temp)\n",
    "    )\n",
    "    return (\n",
    "        1\n",
    "        / params[20]\n",
    "        * np.sinh(zener / pre_factor_poly(params)(strain)) ** (1 / params[21])\n",
    "    )"
   ]
  },
  {
   "cell_type": "markdown",
   "id": "64",
   "metadata": {},
   "source": [
    "## Fit the Model to the Data\n",
    "\n",
    "Now we use the leat squares method to find an optimal fit of the model to the data (implemented in `scipy.optimize.least_squares`).\n",
    "We define a function that computes the absolute error between the data and the model at every data point for a given set of model parameters (`params`).\n",
    "Then, we pass it to the optimization routine which returns the optimal fit to us."
   ]
  },
  {
   "cell_type": "markdown",
   "id": "65",
   "metadata": {},
   "source": [
    "### 6-step Method"
   ]
  },
  {
   "cell_type": "code",
   "execution_count": null,
   "id": "66",
   "metadata": {},
   "outputs": [],
   "source": [
    "fit_6step = opt.least_squares(\n",
    "    lambda params: sellars_tegart_model_6step(data.strain, data.rate, data.temp, params)\n",
    "    - data.stress,\n",
    "    x0=np.concat(\n",
    "        [\n",
    "            np.full(10, 1),\n",
    "            np.full(10, 1),\n",
    "        ]\n",
    "    ),  # initial guess of the params vector\n",
    "    max_nfev=10_000,\n",
    ")\n",
    "fit_6step"
   ]
  },
  {
   "cell_type": "markdown",
   "id": "67",
   "metadata": {},
   "source": [
    "### Full Method (may run for long time)"
   ]
  },
  {
   "cell_type": "code",
   "execution_count": null,
   "id": "68",
   "metadata": {},
   "outputs": [],
   "source": [
    "fit_full = opt.least_squares(\n",
    "    lambda params: sellars_tegart_model_full(data.strain, data.rate, data.temp, params)\n",
    "    - data.stress,\n",
    "    x0=np.concat(\n",
    "        [\n",
    "            np.full(10, 1),\n",
    "            np.full(10, 1),\n",
    "            [5e-3, 5],\n",
    "        ]\n",
    "    ),  # initial guess of the params vector\n",
    "    max_nfev=10_000,\n",
    ")\n",
    "fit_full"
   ]
  },
  {
   "cell_type": "markdown",
   "id": "69",
   "metadata": {},
   "source": [
    "## Investigate the Fit Results"
   ]
  },
  {
   "cell_type": "markdown",
   "id": "70",
   "metadata": {},
   "source": [
    "First, define a space of strains to evaluate the polynomials on."
   ]
  },
  {
   "cell_type": "code",
   "execution_count": null,
   "id": "71",
   "metadata": {},
   "outputs": [],
   "source": [
    "strains = np.linspace(0, 1.5, 200)"
   ]
  },
  {
   "cell_type": "markdown",
   "id": "72",
   "metadata": {},
   "source": [
    "### Full Method"
   ]
  },
  {
   "cell_type": "markdown",
   "id": "73",
   "metadata": {},
   "source": [
    "#### Activation Energy $Q$"
   ]
  },
  {
   "cell_type": "markdown",
   "id": "74",
   "metadata": {},
   "source": [
    "The fit gives the following polynomial for the activation energy $Q$."
   ]
  },
  {
   "cell_type": "code",
   "execution_count": null,
   "id": "75",
   "metadata": {},
   "outputs": [],
   "source": [
    "print(\"Q = \", activation_energy_poly(fit_6step.x))"
   ]
  },
  {
   "cell_type": "markdown",
   "id": "76",
   "metadata": {},
   "source": [
    "Plot it."
   ]
  },
  {
   "cell_type": "code",
   "execution_count": null,
   "id": "77",
   "metadata": {},
   "outputs": [],
   "source": [
    "px.line(\n",
    "    x=strains,\n",
    "    y=activation_energy_poly(fit_6step.x)(strains),\n",
    "    labels=dict(x=\"strain\", y=\"activation_energy\"),\n",
    ")"
   ]
  },
  {
   "cell_type": "markdown",
   "id": "78",
   "metadata": {},
   "source": [
    "#### Pre-Factor $A$"
   ]
  },
  {
   "cell_type": "markdown",
   "id": "79",
   "metadata": {},
   "source": [
    "The fit gives the following polynomial for the pre-factor $A$."
   ]
  },
  {
   "cell_type": "code",
   "execution_count": null,
   "id": "80",
   "metadata": {},
   "outputs": [],
   "source": [
    "print(\"A = \", pre_factor_poly(fit_6step.x))"
   ]
  },
  {
   "cell_type": "markdown",
   "id": "81",
   "metadata": {},
   "source": [
    "Plot it."
   ]
  },
  {
   "cell_type": "code",
   "execution_count": null,
   "id": "82",
   "metadata": {},
   "outputs": [],
   "source": [
    "px.line(\n",
    "    x=strains,\n",
    "    y=pre_factor_poly(fit_6step.x)(strains),\n",
    "    labels=dict(x=\"strain\", y=\"pre_factor\"),\n",
    ")"
   ]
  },
  {
   "cell_type": "markdown",
   "id": "83",
   "metadata": {},
   "source": [
    "### 6-step Method"
   ]
  },
  {
   "cell_type": "markdown",
   "id": "84",
   "metadata": {},
   "source": [
    "### Full Method"
   ]
  },
  {
   "cell_type": "markdown",
   "id": "85",
   "metadata": {},
   "source": [
    "#### Activation Energy $Q$"
   ]
  },
  {
   "cell_type": "markdown",
   "id": "86",
   "metadata": {},
   "source": [
    "The fit gives the following polynomial for the activation energy $Q$."
   ]
  },
  {
   "cell_type": "code",
   "execution_count": null,
   "id": "87",
   "metadata": {},
   "outputs": [],
   "source": [
    "print(\"Q = \", activation_energy_poly(fit_full.x))"
   ]
  },
  {
   "cell_type": "markdown",
   "id": "88",
   "metadata": {},
   "source": [
    "Plot it."
   ]
  },
  {
   "cell_type": "code",
   "execution_count": null,
   "id": "89",
   "metadata": {},
   "outputs": [],
   "source": [
    "px.line(\n",
    "    x=strains,\n",
    "    y=activation_energy_poly(fit_full.x)(strains),\n",
    "    labels=dict(x=\"strain\", y=\"activation_energy\"),\n",
    ")"
   ]
  },
  {
   "cell_type": "markdown",
   "id": "90",
   "metadata": {},
   "source": [
    "#### Pre-Factor $A$"
   ]
  },
  {
   "cell_type": "markdown",
   "id": "91",
   "metadata": {},
   "source": [
    "The fit gives the following polynomial for the pre-factor $A$."
   ]
  },
  {
   "cell_type": "code",
   "execution_count": null,
   "id": "92",
   "metadata": {},
   "outputs": [],
   "source": [
    "print(\"A = \", pre_factor_poly(fit_full.x))"
   ]
  },
  {
   "cell_type": "markdown",
   "id": "93",
   "metadata": {},
   "source": [
    "Plot it."
   ]
  },
  {
   "cell_type": "code",
   "execution_count": null,
   "id": "94",
   "metadata": {},
   "outputs": [],
   "source": [
    "px.line(\n",
    "    x=strains,\n",
    "    y=pre_factor_poly(fit_full.x)(strains),\n",
    "    labels=dict(x=\"strain\", y=\"pre_factor\"),\n",
    ")"
   ]
  },
  {
   "cell_type": "markdown",
   "id": "95",
   "metadata": {},
   "source": [
    "## Plot the Model Predictions Counter the Data\n",
    "\n",
    "First we create a fine cartesian raster to evaluate the model on, so we get smooth curves of the model prediction."
   ]
  },
  {
   "cell_type": "code",
   "execution_count": null,
   "id": "96",
   "metadata": {},
   "outputs": [],
   "source": [
    "strains = np.linspace(0, 1.2, 50)  # strain with 50 points between 0 and 1.2\n",
    "temps = (\n",
    "    data.temp.unique()\n",
    ")  # take only the distinct temperatures that are present in the data\n",
    "rates = data.rate.unique()  # respectively\n",
    "\n",
    "grid = pd.MultiIndex.from_product(\n",
    "    [temps, rates, strains], names=[\"temp\", \"rate\", \"strain\"]\n",
    ")\n",
    "grid"
   ]
  },
  {
   "cell_type": "markdown",
   "id": "97",
   "metadata": {},
   "source": [
    "The raster is an index for a data frame, but we want it as an actual dataframe for easier computation."
   ]
  },
  {
   "cell_type": "code",
   "execution_count": null,
   "id": "98",
   "metadata": {},
   "outputs": [],
   "source": [
    "model_data_6step = pd.DataFrame(index=grid).reset_index()\n",
    "model_data_6step"
   ]
  },
  {
   "cell_type": "code",
   "execution_count": null,
   "id": "99",
   "metadata": {},
   "outputs": [],
   "source": [
    "model_data_full = pd.DataFrame(index=grid).reset_index()\n",
    "model_data_full"
   ]
  },
  {
   "cell_type": "markdown",
   "id": "100",
   "metadata": {},
   "source": [
    "Then we apply the model function with our determined best parameters and save the results in an additonal column in the data frame."
   ]
  },
  {
   "cell_type": "code",
   "execution_count": null,
   "id": "101",
   "metadata": {},
   "outputs": [],
   "source": [
    "model_data_6step[\"stress\"] = sellars_tegart_model_6step(\n",
    "    model_data_6step.strain, model_data_6step.rate, model_data_6step.temp, fit_6step.x\n",
    ")\n",
    "model_data_6step"
   ]
  },
  {
   "cell_type": "code",
   "execution_count": null,
   "id": "102",
   "metadata": {},
   "outputs": [],
   "source": [
    "model_data_full[\"stress\"] = sellars_tegart_model_full(\n",
    "    model_data_full.strain, model_data_full.rate, model_data_full.temp, fit_full.x\n",
    ")\n",
    "model_data_full"
   ]
  },
  {
   "cell_type": "markdown",
   "id": "103",
   "metadata": {},
   "source": [
    "To plot both in comparison, we first have to merge the data frames. We distinguish model predictions and experimental data by an additonal column containg a marker label."
   ]
  },
  {
   "cell_type": "code",
   "execution_count": null,
   "id": "104",
   "metadata": {},
   "outputs": [],
   "source": [
    "combined_data = pd.concat(\n",
    "    [data, model_data_6step, model_data_full],  # list of the frames to combine\n",
    "    keys=[\"exp\", \"6step\", \"full\"],  # list of marker labels in same order as above\n",
    "    names=[\"type\", \"index\"],  # names of the marker column and the index column\n",
    ")\n",
    "combined_data.reset_index(\n",
    "    level=0, inplace=True\n",
    ")  # make the type column a normal column (was an index column)\n",
    "combined_data.fillna(\n",
    "    value={\"file\": \"\"}, inplace=True\n",
    ")  # fill missing file in model results\n",
    "combined_data"
   ]
  },
  {
   "cell_type": "markdown",
   "id": "105",
   "metadata": {},
   "source": [
    "Now we plot the data as before, but distinguish the origin by lime style (solid and dashed)."
   ]
  },
  {
   "cell_type": "code",
   "execution_count": null,
   "id": "106",
   "metadata": {},
   "outputs": [],
   "source": [
    "px.line(\n",
    "    combined_data,\n",
    "    \"strain\",\n",
    "    \"stress\",\n",
    "    color=\"temp\",\n",
    "    facet_col=\"rate\",\n",
    "    line_dash=\"type\",\n",
    "    line_group=\"file\",\n",
    ")"
   ]
  },
  {
   "cell_type": "code",
   "execution_count": null,
   "id": "107",
   "metadata": {},
   "outputs": [],
   "source": []
  },
  {
   "cell_type": "code",
   "execution_count": null,
   "id": "108",
   "metadata": {},
   "outputs": [],
   "source": []
  }
 ],
 "metadata": {
  "jupytext": {
   "main_language": "python"
  },
  "kernelspec": {
   "display_name": "Python 3 (ipykernel)",
   "language": "python",
   "name": "python3"
  },
  "language_info": {
   "codemirror_mode": {
    "name": "ipython",
    "version": 3
   },
   "file_extension": ".py",
   "mimetype": "text/x-python",
   "name": "python",
   "nbconvert_exporter": "python",
   "pygments_lexer": "ipython3",
   "version": "3.12.7"
  }
 },
 "nbformat": 4,
 "nbformat_minor": 5
}
